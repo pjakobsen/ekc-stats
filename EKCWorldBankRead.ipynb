{
 "cells": [
  {
   "cell_type": "markdown",
   "metadata": {},
   "source": [
    "http://abdulbaqi.io/2017/09/13/Wdi/"
   ]
  },
  {
   "cell_type": "code",
   "execution_count": 6,
   "metadata": {},
   "outputs": [],
   "source": [
    "#! pip install wbdata\n",
    "import wbdata\n",
    "\n",
    "def country_data(country_code, indicator, start=2000, end=2015):\n",
    "    import datetime\n",
    "    import wbdata\n",
    "    data_dates = (datetime.datetime(start,1,1), datetime.datetime(end,1,1))\n",
    "    #call the api\n",
    "    data = wbdata.get_dataframe({indicator:'indicator'}, \n",
    "                                country=country_code, \n",
    "                                data_date=data_dates, \n",
    "                                convert_date=True, \n",
    "                                keep_levels=False)\n",
    "    \n",
    "    data = data.reset_index()\n",
    "    #data = data.dropna() #if I want I can drop the na's\n",
    "    return data[['indicator']]\n",
    "\n",
    "\n",
    "def plot_indicators(country_list, indicator, start=2000, end=2015):\n",
    "    import matplotlib.pyplot as plt\n",
    "    import seaborn as sns\n",
    "    import wbdata\n",
    "    import re\n",
    "    ind = wbdata.get_indicator(indicator, display=False)\n",
    "    # capture the title which includes the unit after bracket\n",
    "    title = ind[0]['name']\n",
    "    # now take entire text from first letter to before opening bracket\n",
    "    title = title[:title.find('(')-1]\n",
    "    # this is the patter to match anything between two brackets\n",
    "    p = re.compile('\\((.*?)\\)')\n",
    "    ylab = p.findall(ind[0]['name'])[0]\n",
    "    sns.set_style('white')\n",
    "    fig, axis = plt.subplots()\n",
    "    for c in country_list:\n",
    "        axis.plot(range(start,end+1),country_data(c,indicator,start,end))\n",
    "    plt.legend(country_list)\n",
    "    plt.title(title)\n",
    "    plt.ylabel(ylab)\n",
    "    plt.show()\n",
    "\n"
   ]
  },
  {
   "cell_type": "code",
   "execution_count": 4,
   "metadata": {},
   "outputs": [
    {
     "data": {
      "text/html": [
       "<div>\n",
       "<style scoped>\n",
       "    .dataframe tbody tr th:only-of-type {\n",
       "        vertical-align: middle;\n",
       "    }\n",
       "\n",
       "    .dataframe tbody tr th {\n",
       "        vertical-align: top;\n",
       "    }\n",
       "\n",
       "    .dataframe thead th {\n",
       "        text-align: right;\n",
       "    }\n",
       "</style>\n",
       "<table border=\"1\" class=\"dataframe\">\n",
       "  <thead>\n",
       "    <tr style=\"text-align: right;\">\n",
       "      <th></th>\n",
       "      <th>indicator</th>\n",
       "    </tr>\n",
       "  </thead>\n",
       "  <tbody>\n",
       "    <tr>\n",
       "      <th>0</th>\n",
       "      <td>NaN</td>\n",
       "    </tr>\n",
       "    <tr>\n",
       "      <th>1</th>\n",
       "      <td>0.181880</td>\n",
       "    </tr>\n",
       "    <tr>\n",
       "      <th>2</th>\n",
       "      <td>0.201705</td>\n",
       "    </tr>\n",
       "    <tr>\n",
       "      <th>3</th>\n",
       "      <td>0.276695</td>\n",
       "    </tr>\n",
       "    <tr>\n",
       "      <th>4</th>\n",
       "      <td>0.277992</td>\n",
       "    </tr>\n",
       "    <tr>\n",
       "      <th>5</th>\n",
       "      <td>0.209629</td>\n",
       "    </tr>\n",
       "    <tr>\n",
       "      <th>6</th>\n",
       "      <td>0.231842</td>\n",
       "    </tr>\n",
       "    <tr>\n",
       "      <th>7</th>\n",
       "      <td>0.226354</td>\n",
       "    </tr>\n",
       "    <tr>\n",
       "      <th>8</th>\n",
       "      <td>0.216339</td>\n",
       "    </tr>\n",
       "    <tr>\n",
       "      <th>9</th>\n",
       "      <td>0.211427</td>\n",
       "    </tr>\n",
       "    <tr>\n",
       "      <th>10</th>\n",
       "      <td>0.221036</td>\n",
       "    </tr>\n",
       "    <tr>\n",
       "      <th>11</th>\n",
       "      <td>0.230642</td>\n",
       "    </tr>\n",
       "    <tr>\n",
       "      <th>12</th>\n",
       "      <td>0.227291</td>\n",
       "    </tr>\n",
       "    <tr>\n",
       "      <th>13</th>\n",
       "      <td>0.230597</td>\n",
       "    </tr>\n",
       "    <tr>\n",
       "      <th>14</th>\n",
       "      <td>0.231680</td>\n",
       "    </tr>\n",
       "    <tr>\n",
       "      <th>15</th>\n",
       "      <td>0.214482</td>\n",
       "    </tr>\n",
       "  </tbody>\n",
       "</table>\n",
       "</div>"
      ],
      "text/plain": [
       "    indicator\n",
       "0         NaN\n",
       "1    0.181880\n",
       "2    0.201705\n",
       "3    0.276695\n",
       "4    0.277992\n",
       "5    0.209629\n",
       "6    0.231842\n",
       "7    0.226354\n",
       "8    0.216339\n",
       "9    0.211427\n",
       "10   0.221036\n",
       "11   0.230642\n",
       "12   0.227291\n",
       "13   0.230597\n",
       "14   0.231680\n",
       "15   0.214482"
      ]
     },
     "execution_count": 4,
     "metadata": {},
     "output_type": "execute_result"
    }
   ],
   "source": [
    "country_data('IDN','EN.ATM.CO2E.PP.GD.KD')"
   ]
  },
  {
   "cell_type": "code",
   "execution_count": 5,
   "metadata": {},
   "outputs": [
    {
     "data": {
      "text/plain": [
       "<Figure size 640x480 with 1 Axes>"
      ]
     },
     "metadata": {},
     "output_type": "display_data"
    }
   ],
   "source": [
    "plot_indicators(['SAU', 'QAT', 'BHR', 'KWT', 'OMN', 'ARE'],'EN.ATM.CO2E.PP.GD.KD',1990,2015)"
   ]
  },
  {
   "cell_type": "code",
   "execution_count": null,
   "metadata": {},
   "outputs": [],
   "source": []
  }
 ],
 "metadata": {
  "hide_input": false,
  "kernelspec": {
   "display_name": "Python 3",
   "language": "python",
   "name": "python3"
  },
  "language_info": {
   "codemirror_mode": {
    "name": "ipython",
    "version": 3
   },
   "file_extension": ".py",
   "mimetype": "text/x-python",
   "name": "python",
   "nbconvert_exporter": "python",
   "pygments_lexer": "ipython3",
   "version": "3.7.3"
  }
 },
 "nbformat": 4,
 "nbformat_minor": 2
}
